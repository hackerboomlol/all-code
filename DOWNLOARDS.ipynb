{
  "cells": [
    {
      "cell_type": "code",
      "execution_count": null,
      "metadata": {
        "id": "t8XBnqXMzXJa"
      },
      "outputs": [],
      "source": [
        "!mkdir -p /home/King/Downloads\n",
        "# Install axel and aria2c if not already installed\n",
        "!apt-get install -y axel aria2"
      ]
    },
    {
      "cell_type": "code",
      "execution_count": null,
      "metadata": {
        "id": "h2TFYfP9LNqj"
      },
      "outputs": [],
      "source": [
        "# Using wget\n",
        "!wget -r -np -N -k -P /home/King/Downloads \"httpd\"\n",
        "\n",
        "# Using axel\n",
        "!axel -n 10 \"https\" -o /home/King/Downloads/filename\n",
        "\n",
        "# Using aria2c\n",
        "!aria2c -x 16 -s 16 -d /home/King/Downloads \"HTTPS\""
      ]
    },
    {
      "cell_type": "code",
      "execution_count": null,
      "metadata": {},
      "outputs": [],
      "source": [
        "# @title UNZIP AND UNRAR\n",
        "!pip install unrar\n",
        "import zipfile\n",
        "import os\n",
        "from unrar import rarfile\n",
        "\n",
        "# Path to your ZIP files\n",
        "zip_folder_path = '/home/King/Downloads'\n",
        "\n",
        "# Path to your RAR files\n",
        "rar_folder_path = '/home/King/Downloads'\n",
        "\n",
        "# Extract ZIP files\n",
        "def extract_zip_files(zip_folder_path):\n",
        "    file_list = os.listdir(zip_folder_path)\n",
        "    for file in file_list:\n",
        "        if file.endswith('.zip'):\n",
        "            file_path = os.path.join(zip_folder_path, file)\n",
        "            with zipfile.ZipFile(file_path, 'r') as zip_ref:\n",
        "                zip_ref.extractall(zip_folder_path)\n",
        "                print(f'Extracted {file} successfully.')\n",
        "\n",
        "# Extract RAR files\n",
        "def extract_rar_files(rar_folder_path):\n",
        "    file_list = os.listdir(rar_folder_path)\n",
        "    for file in file_list:\n",
        "        if file.endswith('.rar'):\n",
        "            file_path = os.path.join(rar_folder_path, file)\n",
        "            with rarfile.RarFile(file_path, 'r') as rar_ref:\n",
        "                rar_ref.extractall(rar_folder_path)\n",
        "                print(f'Extracted {file} successfully.')\n",
        "\n",
        "# Extract both ZIP and RAR files\n",
        "extract_zip_files(zip_folder_path)\n",
        "extract_rar_files(rar_folder_path)"
      ]
    },
    {
      "cell_type": "code",
      "execution_count": null,
      "metadata": {
        "id": "ShHTomPdLQ4K"
      },
      "outputs": [],
      "source": [
        "# @title sift all files\n",
        "import os\n",
        "import shutil\n",
        "\n",
        "\n",
        "# Source folder ka path jahan aapke files hain (Google Drive me)\n",
        "source_folder = '/'  # Apne folder ka path yahan daalein\n",
        "\n",
        "# Destination folder ka path jahan videos ko move karna hai\n",
        "destination_folder = '/home/King/Downloads'  # Google Drive me Downloads folder path\n",
        "\n",
        "# Video file extensions\n",
        "video_extensions = {'.mp4', '.mkv', '.avi', '.mov', '.flv', '.wmv', '.webm'}\n",
        "\n",
        "def move_videos(src, dest):\n",
        "    for root, dirs, files in os.walk(src):\n",
        "        for file in files:\n",
        "            if any(file.lower().endswith(ext) for ext in video_extensions):\n",
        "                file_path = os.path.join(root, file)\n",
        "                shutil.move(file_path, dest)\n",
        "                print(f\"Moved: {file_path} to {dest}\")\n",
        "\n",
        "# Videos ko move karein\n",
        "move_videos(source_folder, destination_folder)\n",
        "\n",
        "print(\"All videos have been moved successfully!\")\n"
      ]
    },
    {
      "cell_type": "code",
      "execution_count": null,
      "metadata": {
        "id": "Y4WkY9umLQxL"
      },
      "outputs": [],
      "source": []
    }
  ],
  "metadata": {
    "colab": {
      "provenance": [],
      "toc_visible": true
    },
    "kernelspec": {
      "display_name": "Python 3",
      "name": "python3"
    },
    "language_info": {
      "name": "python"
    }
  },
  "nbformat": 4,
  "nbformat_minor": 0
}
